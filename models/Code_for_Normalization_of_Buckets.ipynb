{
  "nbformat": 4,
  "nbformat_minor": 0,
  "metadata": {
    "colab": {
      "name": "Code for Normalization of Buckets.ipynb",
      "provenance": []
    },
    "kernelspec": {
      "display_name": "Python 3",
      "name": "python3"
    }
  },
  "cells": [
    {
      "cell_type": "code",
      "metadata": {
        "colab": {
          "resources": {
            "http://localhost:8080/nbextensions/google.colab/files.js": {
              "data": "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",
              "ok": true,
              "headers": [
                [
                  "content-type",
                  "application/javascript"
                ]
              ],
              "status": 200,
              "status_text": ""
            }
          },
          "base_uri": "https://localhost:8080/",
          "height": 109
        },
        "id": "nYED0eEKhVzQ",
        "outputId": "4b7d76b6-1ed7-44c7-c42c-614bcc2af3f9"
      },
      "source": [
        "from google.colab import files\n",
        "files.upload()"
      ],
      "execution_count": null,
      "outputs": [
        {
          "output_type": "display_data",
          "data": {
            "text/html": [
              "\n",
              "     <input type=\"file\" id=\"files-e7c395ed-42fa-4ece-8a3a-90fa6bf900f1\" name=\"files[]\" multiple disabled\n",
              "        style=\"border:none\" />\n",
              "     <output id=\"result-e7c395ed-42fa-4ece-8a3a-90fa6bf900f1\">\n",
              "      Upload widget is only available when the cell has been executed in the\n",
              "      current browser session. Please rerun this cell to enable.\n",
              "      </output>\n",
              "      <script src=\"/nbextensions/google.colab/files.js\"></script> "
            ],
            "text/plain": [
              "<IPython.core.display.HTML object>"
            ]
          },
          "metadata": {
            "tags": []
          }
        },
        {
          "output_type": "stream",
          "text": [
            "Saving  ACKTR_100-1k.csv to  ACKTR_100-1k.csv\n"
          ],
          "name": "stdout"
        },
        {
          "output_type": "execute_result",
          "data": {
            "text/plain": [
              "{' ACKTR_100-1k.csv': b'Date,States,Action_Buckets,Bucket_Value\\r\\n28-12-2020,Assam,15,100\\r\\n28-12-2020,Delhi,7,100\\r\\n28-12-2020,Jharkhand,17,100\\r\\n28-12-2020,Maharashtra,58,100\\r\\n28-12-2020,Nagaland,1,100\\r\\n29-12-2020,Assam,15,100\\r\\n29-12-2020,Delhi,7,100\\r\\n29-12-2020,Jharkhand,17,100\\r\\n29-12-2020,Maharashtra,58,100\\r\\n29-12-2020,Nagaland,1,100\\r\\n30-12-2020,Assam,15,100\\r\\n30-12-2020,Delhi,7,100\\r\\n30-12-2020,Jharkhand,17,100\\r\\n30-12-2020,Maharashtra,58,100\\r\\n30-12-2020,Nagaland,1,100\\r\\n31-12-2020,Assam,15,100\\r\\n31-12-2020,Delhi,7,100\\r\\n31-12-2020,Jharkhand,17,100\\r\\n31-12-2020,Maharashtra,58,100\\r\\n31-12-2020,Nagaland,1,100\\r\\n28-12-2020,Assam,31,200\\r\\n28-12-2020,Delhi,16,200\\r\\n28-12-2020,Jharkhand,35,200\\r\\n28-12-2020,Maharashtra,116,200\\r\\n28-12-2020,Nagaland,2,200\\r\\n29-12-2020,Assam,31,200\\r\\n29-12-2020,Delhi,16,200\\r\\n29-12-2020,Jharkhand,16,200\\r\\n29-12-2020,Maharashtra,116,200\\r\\n29-12-2020,Nagaland,2,200\\r\\n30-12-2020,Assam,31,200\\r\\n30-12-2020,Delhi,16,200\\r\\n30-12-2020,Jharkhand,35,200\\r\\n30-12-2020,Maharashtra,116,200\\r\\n30-12-2020,Nagaland,2,200\\r\\n31-12-2020,Assam,31,200\\r\\n31-12-2020,Delhi,16,200\\r\\n31-12-2020,Jharkhand,35,200\\r\\n31-12-2020,Maharashtra,116,200\\r\\n31-12-2020,Nagaland,2,200\\r\\n28-12-2020,Assam,47,300\\r\\n28-12-2020,Delhi,24,300\\r\\n28-12-2020,Jharkhand,53,300\\r\\n28-12-2020,Maharashtra,175,300\\r\\n28-12-2020,Nagaland,4,300\\r\\n29-12-2020,Assam,47,300\\r\\n29-12-2020,Delhi,24,300\\r\\n29-12-2020,Jharkhand,24,300\\r\\n29-12-2020,Maharashtra,175,300\\r\\n29-12-2020,Nagaland,4,300\\r\\n30-12-2020,Assam,47,300\\r\\n30-12-2020,Delhi,24,300\\r\\n30-12-2020,Jharkhand,4,300\\r\\n30-12-2020,Maharashtra,45,300\\r\\n30-12-2020,Nagaland,4,300\\r\\n31-12-2020,Assam,47,300\\r\\n31-12-2020,Delhi,24,300\\r\\n31-12-2020,Jharkhand,53,300\\r\\n31-12-2020,Maharashtra,175,300\\r\\n31-12-2020,Nagaland,4,300\\r\\n28-12-2020,Assam,63,400\\r\\n28-12-2020,Delhi,33,400\\r\\n28-12-2020,Jharkhand,72,400\\r\\n28-12-2020,Maharashtra,233,400\\r\\n28-12-2020,Nagaland,5,400\\r\\n29-12-2020,Assam,63,400\\r\\n29-12-2020,Delhi,33,400\\r\\n29-12-2020,Jharkhand,33,400\\r\\n29-12-2020,Maharashtra,233,400\\r\\n29-12-2020,Nagaland,5,400\\r\\n30-12-2020,Assam,63,400\\r\\n30-12-2020,Delhi,33,400\\r\\n30-12-2020,Jharkhand,5,400\\r\\n30-12-2020,Maharashtra,60,400\\r\\n30-12-2020,Nagaland,5,400\\r\\n31-12-2020,Assam,63,400\\r\\n31-12-2020,Delhi,33,400\\r\\n31-12-2020,Jharkhand,72,400\\r\\n31-12-2020,Maharashtra,233,400\\r\\n31-12-2020,Nagaland,5,400\\r\\n28-12-2020,Assam,79,500\\r\\n28-12-2020,Delhi,41,500\\r\\n28-12-2020,Jharkhand,90,500\\r\\n28-12-2020,Maharashtra,292,500\\r\\n28-12-2020,Nagaland,7,500\\r\\n29-12-2020,Assam,79,500\\r\\n29-12-2020,Delhi,41,500\\r\\n29-12-2020,Jharkhand,41,500\\r\\n29-12-2020,Maharashtra,292,500\\r\\n29-12-2020,Nagaland,7,500\\r\\n30-12-2020,Assam,79,500\\r\\n30-12-2020,Delhi,41,500\\r\\n30-12-2020,Jharkhand,7,500\\r\\n30-12-2020,Maharashtra,76,500\\r\\n30-12-2020,Nagaland,7,500\\r\\n31-12-2020,Assam,79,500\\r\\n31-12-2020,Delhi,41,500\\r\\n31-12-2020,Jharkhand,90,500\\r\\n31-12-2020,Maharashtra,292,500\\r\\n31-12-2020,Nagaland,7,500\\r\\n28-12-2020,Assam,95,600\\r\\n28-12-2020,Delhi,50,600\\r\\n28-12-2020,Jharkhand,8,600\\r\\n28-12-2020,Maharashtra,8,600\\r\\n28-12-2020,Nagaland,8,600\\r\\n29-12-2020,Assam,95,600\\r\\n29-12-2020,Delhi,50,600\\r\\n29-12-2020,Jharkhand,50,600\\r\\n29-12-2020,Maharashtra,8,600\\r\\n29-12-2020,Nagaland,8,600\\r\\n30-12-2020,Assam,95,600\\r\\n30-12-2020,Delhi,50,600\\r\\n30-12-2020,Jharkhand,8,600\\r\\n30-12-2020,Maharashtra,91,600\\r\\n30-12-2020,Nagaland,8,600\\r\\n31-12-2020,Assam,95,600\\r\\n31-12-2020,Delhi,50,600\\r\\n31-12-2020,Jharkhand,8,600\\r\\n31-12-2020,Maharashtra,8,600\\r\\n31-12-2020,Nagaland,8,600\\r\\n28-12-2020,Assam,111,700\\r\\n28-12-2020,Delhi,58,700\\r\\n28-12-2020,Jharkhand,10,700\\r\\n28-12-2020,Maharashtra,10,700\\r\\n28-12-2020,Nagaland,10,700\\r\\n29-12-2020,Assam,111,700\\r\\n29-12-2020,Delhi,58,700\\r\\n29-12-2020,Jharkhand,58,700\\r\\n29-12-2020,Maharashtra,10,700\\r\\n29-12-2020,Nagaland,10,700\\r\\n30-12-2020,Assam,111,700\\r\\n30-12-2020,Delhi,58,700\\r\\n30-12-2020,Jharkhand,10,700\\r\\n30-12-2020,Maharashtra,106,700\\r\\n30-12-2020,Nagaland,10,700\\r\\n31-12-2020,Assam,111,700\\r\\n31-12-2020,Delhi,58,700\\r\\n31-12-2020,Jharkhand,10,700\\r\\n31-12-2020,Maharashtra,10,700\\r\\n31-12-2020,Nagaland,10,700\\r\\n28-12-2020,Assam,127,800\\r\\n28-12-2020,Delhi,67,800\\r\\n28-12-2020,Jharkhand,11,800\\r\\n28-12-2020,Maharashtra,11,800\\r\\n28-12-2020,Nagaland,11,800\\r\\n29-12-2020,Assam,127,800\\r\\n29-12-2020,Delhi,67,800\\r\\n29-12-2020,Jharkhand,67,800\\r\\n29-12-2020,Maharashtra,11,800\\r\\n29-12-2020,Nagaland,11,800\\r\\n30-12-2020,Assam,127,800\\r\\n30-12-2020,Delhi,67,800\\r\\n30-12-2020,Jharkhand,11,800\\r\\n30-12-2020,Maharashtra,122,800\\r\\n30-12-2020,Nagaland,11,800\\r\\n31-12-2020,Assam,127,800\\r\\n31-12-2020,Delhi,67,800\\r\\n31-12-2020,Jharkhand,11,800\\r\\n31-12-2020,Maharashtra,11,800\\r\\n31-12-2020,Nagaland,11,800\\r\\n28-12-2020,Assam,143,900\\r\\n28-12-2020,Delhi,75,900\\r\\n28-12-2020,Jharkhand,13,900\\r\\n28-12-2020,Maharashtra,13,900\\r\\n28-12-2020,Nagaland,13,900\\r\\n29-12-2020,Assam,143,900\\r\\n29-12-2020,Delhi,75,900\\r\\n29-12-2020,Jharkhand,75,900\\r\\n29-12-2020,Maharashtra,13,900\\r\\n29-12-2020,Nagaland,13,900\\r\\n30-12-2020,Assam,143,900\\r\\n30-12-2020,Delhi,75,900\\r\\n30-12-2020,Jharkhand,13,900\\r\\n30-12-2020,Maharashtra,137,900\\r\\n30-12-2020,Nagaland,13,900\\r\\n31-12-2020,Assam,143,900\\r\\n31-12-2020,Delhi,75,900\\r\\n31-12-2020,Jharkhand,13,900\\r\\n31-12-2020,Maharashtra,13,900\\r\\n31-12-2020,Nagaland,13,900\\r\\n28-12-2020,Assam,160,1000\\r\\n28-12-2020,Delhi,84,1000\\r\\n28-12-2020,Jharkhand,15,1000\\r\\n28-12-2020,Maharashtra,15,1000\\r\\n28-12-2020,Nagaland,15,1000\\r\\n29-12-2020,Assam,160,1000\\r\\n29-12-2020,Delhi,84,1000\\r\\n29-12-2020,Jharkhand,84,1000\\r\\n29-12-2020,Maharashtra,15,1000\\r\\n29-12-2020,Nagaland,15,1000\\r\\n30-12-2020,Assam,160,1000\\r\\n30-12-2020,Delhi,84,1000\\r\\n30-12-2020,Jharkhand,15,1000\\r\\n30-12-2020,Maharashtra,153,1000\\r\\n30-12-2020,Nagaland,15,1000\\r\\n31-12-2020,Assam,160,1000\\r\\n31-12-2020,Delhi,84,1000\\r\\n31-12-2020,Jharkhand,15,1000\\r\\n31-12-2020,Maharashtra,15,1000\\r\\n31-12-2020,Nagaland,15,1000'}"
            ]
          },
          "metadata": {
            "tags": []
          },
          "execution_count": 1
        }
      ]
    },
    {
      "cell_type": "code",
      "metadata": {
        "id": "ecTSV8ZkhfGu"
      },
      "source": [
        "import numpy as np\n",
        "import pandas as pd"
      ],
      "execution_count": null,
      "outputs": []
    },
    {
      "cell_type": "code",
      "metadata": {
        "colab": {
          "base_uri": "https://localhost:8080/",
          "height": 419
        },
        "id": "U2fVwqlDhlqS",
        "outputId": "1d75ac52-bed3-4876-edce-a62c604c80c6"
      },
      "source": [
        "df=pd.read_csv(' ACKTR_100-1k.csv')\n",
        "df"
      ],
      "execution_count": null,
      "outputs": [
        {
          "output_type": "execute_result",
          "data": {
            "text/html": [
              "<div>\n",
              "<style scoped>\n",
              "    .dataframe tbody tr th:only-of-type {\n",
              "        vertical-align: middle;\n",
              "    }\n",
              "\n",
              "    .dataframe tbody tr th {\n",
              "        vertical-align: top;\n",
              "    }\n",
              "\n",
              "    .dataframe thead th {\n",
              "        text-align: right;\n",
              "    }\n",
              "</style>\n",
              "<table border=\"1\" class=\"dataframe\">\n",
              "  <thead>\n",
              "    <tr style=\"text-align: right;\">\n",
              "      <th></th>\n",
              "      <th>Date</th>\n",
              "      <th>States</th>\n",
              "      <th>Action_Buckets</th>\n",
              "      <th>Bucket_Value</th>\n",
              "    </tr>\n",
              "  </thead>\n",
              "  <tbody>\n",
              "    <tr>\n",
              "      <th>0</th>\n",
              "      <td>28-12-2020</td>\n",
              "      <td>Assam</td>\n",
              "      <td>15</td>\n",
              "      <td>100</td>\n",
              "    </tr>\n",
              "    <tr>\n",
              "      <th>1</th>\n",
              "      <td>28-12-2020</td>\n",
              "      <td>Delhi</td>\n",
              "      <td>7</td>\n",
              "      <td>100</td>\n",
              "    </tr>\n",
              "    <tr>\n",
              "      <th>2</th>\n",
              "      <td>28-12-2020</td>\n",
              "      <td>Jharkhand</td>\n",
              "      <td>17</td>\n",
              "      <td>100</td>\n",
              "    </tr>\n",
              "    <tr>\n",
              "      <th>3</th>\n",
              "      <td>28-12-2020</td>\n",
              "      <td>Maharashtra</td>\n",
              "      <td>58</td>\n",
              "      <td>100</td>\n",
              "    </tr>\n",
              "    <tr>\n",
              "      <th>4</th>\n",
              "      <td>28-12-2020</td>\n",
              "      <td>Nagaland</td>\n",
              "      <td>1</td>\n",
              "      <td>100</td>\n",
              "    </tr>\n",
              "    <tr>\n",
              "      <th>...</th>\n",
              "      <td>...</td>\n",
              "      <td>...</td>\n",
              "      <td>...</td>\n",
              "      <td>...</td>\n",
              "    </tr>\n",
              "    <tr>\n",
              "      <th>195</th>\n",
              "      <td>31-12-2020</td>\n",
              "      <td>Assam</td>\n",
              "      <td>160</td>\n",
              "      <td>1000</td>\n",
              "    </tr>\n",
              "    <tr>\n",
              "      <th>196</th>\n",
              "      <td>31-12-2020</td>\n",
              "      <td>Delhi</td>\n",
              "      <td>84</td>\n",
              "      <td>1000</td>\n",
              "    </tr>\n",
              "    <tr>\n",
              "      <th>197</th>\n",
              "      <td>31-12-2020</td>\n",
              "      <td>Jharkhand</td>\n",
              "      <td>15</td>\n",
              "      <td>1000</td>\n",
              "    </tr>\n",
              "    <tr>\n",
              "      <th>198</th>\n",
              "      <td>31-12-2020</td>\n",
              "      <td>Maharashtra</td>\n",
              "      <td>15</td>\n",
              "      <td>1000</td>\n",
              "    </tr>\n",
              "    <tr>\n",
              "      <th>199</th>\n",
              "      <td>31-12-2020</td>\n",
              "      <td>Nagaland</td>\n",
              "      <td>15</td>\n",
              "      <td>1000</td>\n",
              "    </tr>\n",
              "  </tbody>\n",
              "</table>\n",
              "<p>200 rows × 4 columns</p>\n",
              "</div>"
            ],
            "text/plain": [
              "           Date       States  Action_Buckets  Bucket_Value\n",
              "0    28-12-2020        Assam              15           100\n",
              "1    28-12-2020        Delhi               7           100\n",
              "2    28-12-2020    Jharkhand              17           100\n",
              "3    28-12-2020  Maharashtra              58           100\n",
              "4    28-12-2020     Nagaland               1           100\n",
              "..          ...          ...             ...           ...\n",
              "195  31-12-2020        Assam             160          1000\n",
              "196  31-12-2020        Delhi              84          1000\n",
              "197  31-12-2020    Jharkhand              15          1000\n",
              "198  31-12-2020  Maharashtra              15          1000\n",
              "199  31-12-2020     Nagaland              15          1000\n",
              "\n",
              "[200 rows x 4 columns]"
            ]
          },
          "metadata": {
            "tags": []
          },
          "execution_count": 3
        }
      ]
    },
    {
      "cell_type": "code",
      "metadata": {
        "colab": {
          "base_uri": "https://localhost:8080/",
          "height": 669
        },
        "id": "eNzmPsgOSxCa",
        "outputId": "a7b7674f-67f6-4770-e559-7969e45d3368"
      },
      "source": [
        "df_Bucket=df[df.Bucket_Value==100] #Changing the Bucket Value here\n",
        "df_Bucket"
      ],
      "execution_count": null,
      "outputs": [
        {
          "output_type": "execute_result",
          "data": {
            "text/html": [
              "<div>\n",
              "<style scoped>\n",
              "    .dataframe tbody tr th:only-of-type {\n",
              "        vertical-align: middle;\n",
              "    }\n",
              "\n",
              "    .dataframe tbody tr th {\n",
              "        vertical-align: top;\n",
              "    }\n",
              "\n",
              "    .dataframe thead th {\n",
              "        text-align: right;\n",
              "    }\n",
              "</style>\n",
              "<table border=\"1\" class=\"dataframe\">\n",
              "  <thead>\n",
              "    <tr style=\"text-align: right;\">\n",
              "      <th></th>\n",
              "      <th>Date</th>\n",
              "      <th>States</th>\n",
              "      <th>Action_Buckets</th>\n",
              "      <th>Bucket_Value</th>\n",
              "    </tr>\n",
              "  </thead>\n",
              "  <tbody>\n",
              "    <tr>\n",
              "      <th>0</th>\n",
              "      <td>28-12-2020</td>\n",
              "      <td>Assam</td>\n",
              "      <td>15</td>\n",
              "      <td>100</td>\n",
              "    </tr>\n",
              "    <tr>\n",
              "      <th>1</th>\n",
              "      <td>28-12-2020</td>\n",
              "      <td>Delhi</td>\n",
              "      <td>7</td>\n",
              "      <td>100</td>\n",
              "    </tr>\n",
              "    <tr>\n",
              "      <th>2</th>\n",
              "      <td>28-12-2020</td>\n",
              "      <td>Jharkhand</td>\n",
              "      <td>17</td>\n",
              "      <td>100</td>\n",
              "    </tr>\n",
              "    <tr>\n",
              "      <th>3</th>\n",
              "      <td>28-12-2020</td>\n",
              "      <td>Maharashtra</td>\n",
              "      <td>58</td>\n",
              "      <td>100</td>\n",
              "    </tr>\n",
              "    <tr>\n",
              "      <th>4</th>\n",
              "      <td>28-12-2020</td>\n",
              "      <td>Nagaland</td>\n",
              "      <td>1</td>\n",
              "      <td>100</td>\n",
              "    </tr>\n",
              "    <tr>\n",
              "      <th>5</th>\n",
              "      <td>29-12-2020</td>\n",
              "      <td>Assam</td>\n",
              "      <td>15</td>\n",
              "      <td>100</td>\n",
              "    </tr>\n",
              "    <tr>\n",
              "      <th>6</th>\n",
              "      <td>29-12-2020</td>\n",
              "      <td>Delhi</td>\n",
              "      <td>7</td>\n",
              "      <td>100</td>\n",
              "    </tr>\n",
              "    <tr>\n",
              "      <th>7</th>\n",
              "      <td>29-12-2020</td>\n",
              "      <td>Jharkhand</td>\n",
              "      <td>17</td>\n",
              "      <td>100</td>\n",
              "    </tr>\n",
              "    <tr>\n",
              "      <th>8</th>\n",
              "      <td>29-12-2020</td>\n",
              "      <td>Maharashtra</td>\n",
              "      <td>58</td>\n",
              "      <td>100</td>\n",
              "    </tr>\n",
              "    <tr>\n",
              "      <th>9</th>\n",
              "      <td>29-12-2020</td>\n",
              "      <td>Nagaland</td>\n",
              "      <td>1</td>\n",
              "      <td>100</td>\n",
              "    </tr>\n",
              "    <tr>\n",
              "      <th>10</th>\n",
              "      <td>30-12-2020</td>\n",
              "      <td>Assam</td>\n",
              "      <td>15</td>\n",
              "      <td>100</td>\n",
              "    </tr>\n",
              "    <tr>\n",
              "      <th>11</th>\n",
              "      <td>30-12-2020</td>\n",
              "      <td>Delhi</td>\n",
              "      <td>7</td>\n",
              "      <td>100</td>\n",
              "    </tr>\n",
              "    <tr>\n",
              "      <th>12</th>\n",
              "      <td>30-12-2020</td>\n",
              "      <td>Jharkhand</td>\n",
              "      <td>17</td>\n",
              "      <td>100</td>\n",
              "    </tr>\n",
              "    <tr>\n",
              "      <th>13</th>\n",
              "      <td>30-12-2020</td>\n",
              "      <td>Maharashtra</td>\n",
              "      <td>58</td>\n",
              "      <td>100</td>\n",
              "    </tr>\n",
              "    <tr>\n",
              "      <th>14</th>\n",
              "      <td>30-12-2020</td>\n",
              "      <td>Nagaland</td>\n",
              "      <td>1</td>\n",
              "      <td>100</td>\n",
              "    </tr>\n",
              "    <tr>\n",
              "      <th>15</th>\n",
              "      <td>31-12-2020</td>\n",
              "      <td>Assam</td>\n",
              "      <td>15</td>\n",
              "      <td>100</td>\n",
              "    </tr>\n",
              "    <tr>\n",
              "      <th>16</th>\n",
              "      <td>31-12-2020</td>\n",
              "      <td>Delhi</td>\n",
              "      <td>7</td>\n",
              "      <td>100</td>\n",
              "    </tr>\n",
              "    <tr>\n",
              "      <th>17</th>\n",
              "      <td>31-12-2020</td>\n",
              "      <td>Jharkhand</td>\n",
              "      <td>17</td>\n",
              "      <td>100</td>\n",
              "    </tr>\n",
              "    <tr>\n",
              "      <th>18</th>\n",
              "      <td>31-12-2020</td>\n",
              "      <td>Maharashtra</td>\n",
              "      <td>58</td>\n",
              "      <td>100</td>\n",
              "    </tr>\n",
              "    <tr>\n",
              "      <th>19</th>\n",
              "      <td>31-12-2020</td>\n",
              "      <td>Nagaland</td>\n",
              "      <td>1</td>\n",
              "      <td>100</td>\n",
              "    </tr>\n",
              "  </tbody>\n",
              "</table>\n",
              "</div>"
            ],
            "text/plain": [
              "          Date       States  Action_Buckets  Bucket_Value\n",
              "0   28-12-2020        Assam              15           100\n",
              "1   28-12-2020        Delhi               7           100\n",
              "2   28-12-2020    Jharkhand              17           100\n",
              "3   28-12-2020  Maharashtra              58           100\n",
              "4   28-12-2020     Nagaland               1           100\n",
              "5   29-12-2020        Assam              15           100\n",
              "6   29-12-2020        Delhi               7           100\n",
              "7   29-12-2020    Jharkhand              17           100\n",
              "8   29-12-2020  Maharashtra              58           100\n",
              "9   29-12-2020     Nagaland               1           100\n",
              "10  30-12-2020        Assam              15           100\n",
              "11  30-12-2020        Delhi               7           100\n",
              "12  30-12-2020    Jharkhand              17           100\n",
              "13  30-12-2020  Maharashtra              58           100\n",
              "14  30-12-2020     Nagaland               1           100\n",
              "15  31-12-2020        Assam              15           100\n",
              "16  31-12-2020        Delhi               7           100\n",
              "17  31-12-2020    Jharkhand              17           100\n",
              "18  31-12-2020  Maharashtra              58           100\n",
              "19  31-12-2020     Nagaland               1           100"
            ]
          },
          "metadata": {
            "tags": []
          },
          "execution_count": 4
        }
      ]
    },
    {
      "cell_type": "code",
      "metadata": {
        "colab": {
          "base_uri": "https://localhost:8080/",
          "height": 204
        },
        "id": "P7mrwOW2h8Gw",
        "outputId": "ea3defb3-ac4e-4019-ab05-7044a948553e"
      },
      "source": [
        "df_date=df_Bucket[df_Bucket.Date=='28-12-2020'] #Changing the date from here. Right now 28th\n",
        "df_date"
      ],
      "execution_count": null,
      "outputs": [
        {
          "output_type": "execute_result",
          "data": {
            "text/html": [
              "<div>\n",
              "<style scoped>\n",
              "    .dataframe tbody tr th:only-of-type {\n",
              "        vertical-align: middle;\n",
              "    }\n",
              "\n",
              "    .dataframe tbody tr th {\n",
              "        vertical-align: top;\n",
              "    }\n",
              "\n",
              "    .dataframe thead th {\n",
              "        text-align: right;\n",
              "    }\n",
              "</style>\n",
              "<table border=\"1\" class=\"dataframe\">\n",
              "  <thead>\n",
              "    <tr style=\"text-align: right;\">\n",
              "      <th></th>\n",
              "      <th>Date</th>\n",
              "      <th>States</th>\n",
              "      <th>Action_Buckets</th>\n",
              "      <th>Bucket_Value</th>\n",
              "    </tr>\n",
              "  </thead>\n",
              "  <tbody>\n",
              "    <tr>\n",
              "      <th>0</th>\n",
              "      <td>28-12-2020</td>\n",
              "      <td>Assam</td>\n",
              "      <td>15</td>\n",
              "      <td>100</td>\n",
              "    </tr>\n",
              "    <tr>\n",
              "      <th>1</th>\n",
              "      <td>28-12-2020</td>\n",
              "      <td>Delhi</td>\n",
              "      <td>7</td>\n",
              "      <td>100</td>\n",
              "    </tr>\n",
              "    <tr>\n",
              "      <th>2</th>\n",
              "      <td>28-12-2020</td>\n",
              "      <td>Jharkhand</td>\n",
              "      <td>17</td>\n",
              "      <td>100</td>\n",
              "    </tr>\n",
              "    <tr>\n",
              "      <th>3</th>\n",
              "      <td>28-12-2020</td>\n",
              "      <td>Maharashtra</td>\n",
              "      <td>58</td>\n",
              "      <td>100</td>\n",
              "    </tr>\n",
              "    <tr>\n",
              "      <th>4</th>\n",
              "      <td>28-12-2020</td>\n",
              "      <td>Nagaland</td>\n",
              "      <td>1</td>\n",
              "      <td>100</td>\n",
              "    </tr>\n",
              "  </tbody>\n",
              "</table>\n",
              "</div>"
            ],
            "text/plain": [
              "         Date       States  Action_Buckets  Bucket_Value\n",
              "0  28-12-2020        Assam              15           100\n",
              "1  28-12-2020        Delhi               7           100\n",
              "2  28-12-2020    Jharkhand              17           100\n",
              "3  28-12-2020  Maharashtra              58           100\n",
              "4  28-12-2020     Nagaland               1           100"
            ]
          },
          "metadata": {
            "tags": []
          },
          "execution_count": 5
        }
      ]
    },
    {
      "cell_type": "code",
      "metadata": {
        "id": "aMvFc4RqljAj"
      },
      "source": [
        "#We get the dataframes for each state on that particular day\n",
        "df_Assam=df_date[df_date.States=='Assam'] \n",
        "df_Delhi=df_date[df_date.States=='Delhi']\n",
        "df_Jharkhand=df_date[df_date.States=='Jharkhand']\n",
        "df_Maharashtra=df_date[df_date.States=='Maharashtra']\n",
        "df_Nagaland=df_date[df_date.States=='Nagaland']"
      ],
      "execution_count": null,
      "outputs": []
    },
    {
      "cell_type": "code",
      "metadata": {
        "colab": {
          "base_uri": "https://localhost:8080/"
        },
        "id": "tFs4xXkdg6YG",
        "outputId": "c0f6f621-f875-465d-cda5-d5981c0de890"
      },
      "source": [
        "len(df_Assam)"
      ],
      "execution_count": null,
      "outputs": [
        {
          "output_type": "execute_result",
          "data": {
            "text/plain": [
              "1"
            ]
          },
          "metadata": {
            "tags": []
          },
          "execution_count": 7
        }
      ]
    },
    {
      "cell_type": "code",
      "metadata": {
        "id": "41Tx78ZJk_Es"
      },
      "source": [
        "#For computing actions.mean() for all states\n",
        "mean_actions=[]\n",
        "\n",
        "mean_act_Assam=round(df_Assam['Action_Buckets'].mean(),4)\n",
        "mean_actions.append(mean_act_Assam)\n",
        "\n",
        "mean_act_Delhi=round(df_Delhi['Action_Buckets'].mean(),4)\n",
        "mean_actions.append(mean_act_Delhi)\n",
        "\n",
        "mean_act_Jharkhand=round(df_Jharkhand['Action_Buckets'].mean(),4)\n",
        "mean_actions.append(mean_act_Jharkhand)\n",
        "\n",
        "mean_act_Maharashtra=round(df_Maharashtra['Action_Buckets'].mean(),4)\n",
        "mean_actions.append(mean_act_Maharashtra)\n",
        "\n",
        "mean_act_Nagaland=round(df_Nagaland['Action_Buckets'].mean(),4)\n",
        "mean_actions.append(mean_act_Nagaland)\n",
        "\n",
        "sum_mean_act=mean_act_Assam+mean_act_Delhi+mean_act_Jharkhand+mean_act_Maharashtra+mean_act_Nagaland"
      ],
      "execution_count": null,
      "outputs": []
    },
    {
      "cell_type": "code",
      "metadata": {
        "id": "-lZmBbkyoElL"
      },
      "source": [
        "#Normalised Actions\n",
        "normalised_actions=[]\n",
        "\n",
        "normalised_action_Assam=round(100*mean_act_Assam/sum_mean_act,4)\n",
        "normalised_actions.append(normalised_action_Assam)\n",
        "\n",
        "normalised_action_Delhi=round(100*mean_act_Delhi/sum_mean_act,4)\n",
        "normalised_actions.append(normalised_action_Delhi)\n",
        "\n",
        "normalised_action_Jharkhand=round(100*mean_act_Jharkhand/sum_mean_act,4)\n",
        "normalised_actions.append(normalised_action_Jharkhand)\n",
        "\n",
        "normalised_action_Maharashtra=round(100*mean_act_Maharashtra/sum_mean_act,4)\n",
        "normalised_actions.append(normalised_action_Maharashtra)\n",
        "\n",
        "normalised_action_Nagaland=round(100*mean_act_Nagaland/sum_mean_act,4)\n",
        "normalised_actions.append(normalised_action_Nagaland)"
      ],
      "execution_count": null,
      "outputs": []
    },
    {
      "cell_type": "code",
      "metadata": {
        "id": "FAfuEFqUop5D"
      },
      "source": [
        ""
      ],
      "execution_count": null,
      "outputs": []
    },
    {
      "cell_type": "code",
      "metadata": {
        "id": "QR-yZGmXnVpA"
      },
      "source": [
        "#Standard deviations\n",
        "standard_deviations=[]\n",
        "\n",
        "standard_deviation_Assam=(round(df_Assam['Action_Buckets'].std(),4))\n",
        "standard_deviations.append(standard_deviation_Assam)\n",
        "\n",
        "standard_deviation_Delhi=(round(df_Delhi['Action_Buckets'].std(),4))\n",
        "standard_deviations.append(standard_deviation_Delhi)\n",
        "\n",
        "standard_deviation_Jharkhand=(round(df_Jharkhand['Action_Buckets'].std(),4))\n",
        "standard_deviations.append(standard_deviation_Jharkhand)\n",
        "\n",
        "standard_deviation_Maharashtra=(round(df_Maharashtra['Action_Buckets'].std(),4))\n",
        "standard_deviations.append(standard_deviation_Maharashtra)\n",
        "\n",
        "standard_deviation_Nagaland=(round(df_Nagaland['Action_Buckets'].std(),4))\n",
        "standard_deviations.append(standard_deviation_Nagaland)"
      ],
      "execution_count": null,
      "outputs": []
    },
    {
      "cell_type": "code",
      "metadata": {
        "id": "K3YEWTuzn7ox"
      },
      "source": [
        "100*mean_act_Maharashtra/sum_mean_act"
      ],
      "execution_count": null,
      "outputs": []
    },
    {
      "cell_type": "code",
      "metadata": {
        "colab": {
          "base_uri": "https://localhost:8080/"
        },
        "id": "div_N6bGqzug",
        "outputId": "988e7f65-d04b-430b-b372-25931b221a49"
      },
      "source": [
        "import math\n",
        "#Printing the desired oututs\n",
        "\n",
        "print('Vaccine %')\n",
        "\n",
        "for i in range(len(normalised_actions)):\n",
        "  print(normalised_actions[i])\n",
        "\n",
        "print()\n",
        "\n",
        "print('Mean Action')\n",
        "for i in range(len(mean_actions)):\n",
        "  print(mean_actions[i])\n",
        "\n",
        "print()\n",
        "\n",
        "\n",
        "print('Standard Deviation')\n",
        "for i in range(len(standard_deviations)):\n",
        "  print(standard_deviations[i])\n",
        "\n",
        "print()\n",
        "\n",
        "print('Upper CI')\n",
        "for i in range(len(mean_actions)):\n",
        "  print(round(mean_actions[i]+ (1.96*math.sqrt(standard_deviations[i]))/math.sqrt(8),4))\n",
        "\n",
        "print()\n",
        "print('Lower CI')\n",
        "for i in range(len(mean_actions)):\n",
        "  print(round(mean_actions[i]- (1.96*math.sqrt(standard_deviations[i]))/math.sqrt(8),4))"
      ],
      "execution_count": null,
      "outputs": [
        {
          "output_type": "stream",
          "text": [
            "Vaccine %\n",
            "15.3061\n",
            "7.1429\n",
            "17.3469\n",
            "59.1837\n",
            "1.0204\n",
            "\n",
            "Mean Action\n",
            "15.0\n",
            "7.0\n",
            "17.0\n",
            "58.0\n",
            "1.0\n",
            "\n",
            "Standard Deviation\n",
            "nan\n",
            "nan\n",
            "nan\n",
            "nan\n",
            "nan\n",
            "\n",
            "Upper CI\n",
            "nan\n",
            "nan\n",
            "nan\n",
            "nan\n",
            "nan\n",
            "\n",
            "Lower CI\n",
            "nan\n",
            "nan\n",
            "nan\n",
            "nan\n",
            "nan\n"
          ],
          "name": "stdout"
        }
      ]
    }
  ]
}